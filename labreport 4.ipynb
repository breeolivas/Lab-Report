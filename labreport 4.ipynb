{
 "cells": [
  {
   "cell_type": "markdown",
   "id": "02bb39e0",
   "metadata": {},
   "source": [
    "# Nerve Action Potentials\n"
   ]
  },
  {
   "cell_type": "markdown",
   "id": "e8b4a20f",
   "metadata": {},
   "source": [
    "#### Purpose "
   ]
  },
  {
   "cell_type": "markdown",
   "id": "eb130782",
   "metadata": {},
   "source": [
    "Most cells in the body are electrically charged due to unequal distribution of ions across the membrane. Active transport and diffusion of ions maintain the polorized state across the cell membrane. Cells act as capacitors to store electrical charges due to the composition and structure of their cell membranes. Neurons and muscle cells process excitable membranes that are capable of changing their polarity. The purpose is to understand the neuron action potential and what drives it to be. "
   ]
  },
  {
   "cell_type": "markdown",
   "id": "20cfa747",
   "metadata": {},
   "source": [
    "#### Procedure "
   ]
  },
  {
   "cell_type": "markdown",
   "id": "c6c507ca",
   "metadata": {},
   "source": [
    "Assemble the instrumentation in the following way. Connect the simulator output leads from the PB-3 Bio-Oscilloscope the nerve conduction chamber with the red (+) lead most proximal and the black (-) lead next to it. Connect the nerve chamber leads to the Bio-amplifer input channel.  Connect the nerve chamber leads to the nerve chamber starting at the proximal end with the ground (silver) lead, then the black lead, followed by the red lead.\n",
    "3 Bio- Oscilloscope to the following initial settings: Set the frequency of the stimulus to 1 x 5 events/second (5 pps). Set the duration of the stimulus to 4 x 0.01 msec. Set the horizontal sensitivity of the oscilloscope to 1 x 0.1 ms/div. Set the vertical sensitivity of the oscilloscope to 10 x 100 mv/div. Carefully dissect out the sciatic nerves from the dorsal thigh musculature of a doubly pithed Bullfrog, Rana catesbeiana. Tie threads to each end of the nerves using toothpicks marked for proximal and distal. Cut the nerves beyond each thread, and, using the threads, lift the nerves out and into a Petri dish of aerated amphibian Ringer’s solution. Place a wet string over the electrodes of the nerve chamber. Stimulate the string to demonstrate stimulus artifact on the oscilloscope. Remove the string and carefully place a sciatic nerve over the electrodes of the nerve\n",
    "chamber. Take care to properly align the nerve with reference to proximal and distal in\n",
    "the chamber and not to submerse the nerve into the Ringer’s solution. Starting with a low stimulus voltage, very slowly increase the voltage until a biphasic response appears on the oscilloscope screen. This is the threshold\n",
    "stimulus. Measure and record the latency, vertical amplitude and the horizontal duration of the\n",
    "nerve response as represented on the oscilloscope screen. Increase the voltage of the stimulus. Measure and record the nerve response at this increased voltage. Turn the stimulus voltage back down. Increase the stimulus duration. \n"
   ]
  },
  {
   "cell_type": "markdown",
   "id": "f34c566f",
   "metadata": {},
   "source": [
    "#### Results "
   ]
  },
  {
   "cell_type": "code",
   "execution_count": null,
   "id": "42b26ed7",
   "metadata": {},
   "outputs": [],
   "source": [
    "\n"
   ]
  },
  {
   "cell_type": "markdown",
   "id": "19619b00",
   "metadata": {},
   "source": [
    "#### Discussion "
   ]
  },
  {
   "cell_type": "markdown",
   "id": "5f5cd561",
   "metadata": {},
   "source": [
    "From this lab youre able to see in the table the voltage increase in the stimulus when turned on and see a decreases when turned off. An action potential is a rapid sequence of changes in the voltage across a membrane. The membrane voltage, or potential, is determined at any time by the relative ratio of ions, extracellular to intracellular, and the permeability of each ion."
   ]
  },
  {
   "cell_type": "markdown",
   "id": "94479881",
   "metadata": {},
   "source": [
    "#### Conclusion "
   ]
  },
  {
   "cell_type": "markdown",
   "id": "74a7de82",
   "metadata": {},
   "source": [
    "The conclusion for this lab is that an action potential propagates along the cell membrane of an axon until it reaches the terminal button. Once the terminal button is depolarized, it releases a neurotransmitter into the synaptic cleft.Neurotransmitters are released by cells near the dendrites, often as the end result of their own action potential! These incoming ions bring the membrane potential closer to 0, which is known as depolarization. Action potentials result from the depolarization of the cell membrane (the sarcolemma), which opens voltage-sensitive sodium channels; these become inactivated and the membrane is repolarized through the outward current of potassium ions."
   ]
  },
  {
   "cell_type": "code",
   "execution_count": null,
   "id": "b7d7832d",
   "metadata": {},
   "outputs": [],
   "source": []
  }
 ],
 "metadata": {
  "kernelspec": {
   "display_name": "Python 3 (ipykernel)",
   "language": "python",
   "name": "python3"
  },
  "language_info": {
   "codemirror_mode": {
    "name": "ipython",
    "version": 3
   },
   "file_extension": ".py",
   "mimetype": "text/x-python",
   "name": "python",
   "nbconvert_exporter": "python",
   "pygments_lexer": "ipython3",
   "version": "3.11.4"
  }
 },
 "nbformat": 4,
 "nbformat_minor": 5
}
