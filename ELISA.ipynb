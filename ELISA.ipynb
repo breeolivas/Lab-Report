{
 "cells": [
  {
   "cell_type": "markdown",
   "id": "54d07cae",
   "metadata": {},
   "source": [
    "# Elisa "
   ]
  },
  {
   "cell_type": "markdown",
   "id": "c72b8200",
   "metadata": {},
   "source": [
    "#### Purpose "
   ]
  },
  {
   "cell_type": "markdown",
   "id": "cbda59fe",
   "metadata": {},
   "source": [
    "The purpose of this lab is to use a laboratory technique to be able to detect the presence of any specific antibodies, antigens, or other substances in a biological sample. The test it's primarily used in medical diagnostics to identify the presence of antibodies associated with various infectious diseases. The test could also determine whether an individual has developed antibodies in response to a infection or vaccine. The ELISA involves a binding of antibodies or antigens to a solid surface such as a microplate. Overall, the ELISA test is used in the medical field to be able to detect antibodies ."
   ]
  },
  {
   "cell_type": "markdown",
   "id": "b5fe4268",
   "metadata": {},
   "source": [
    "#### Procedure "
   ]
  },
  {
   "cell_type": "markdown",
   "id": "51fb3ca7",
   "metadata": {},
   "source": [
    "Label the yellow tubes to identify samples being tested\n",
    "2. Label your 12-well strip 3 with a “+” for positive control 3 with a “-“ for a negative\n",
    "control and the remaining 3 with sample A and 3 with sample B\n",
    "3. Use a fresh pipet tip to transfer 50ul of purified antigen(AG) into each of the 12 wells of\n",
    "the microplate strip.\n",
    "4. Wait 5 min for the antigen to bind\n",
    "5. Wash :\n",
    "a) the tip of the strip upside on the paper towel and gently tap a few times upside down. Make sure to avoid splashing.\n",
    "b) Discard the top paper towel\n",
    "c) Use your transfer pipet to fill each week with wash buffer taking care not to spill\n",
    "over the neighboring wells.\n",
    "d) Tip the microplate strip upside down onto the paper towel and tap\n",
    "e) Discard the top 2-3 paper towels\n",
    "6. Repeat wash step 5\n",
    "7. Use a fresh pipet tip to transfer 50ul of the positive control (+) into the three “+” wells.\n",
    "8. Use a fresh pipet tip to transfer 50ul of the negative control(-) into the three “-“ wells\n",
    "9. Transfer 50ul of each of your teams serum samples into each of appropriate initaled\n",
    "three wells using a fresh pipet tip for each serum sample\n",
    "10. Wait 5 min for the antibodies to bind together\n",
    "11. Wash the unbound primary antibody out of the wells by repeating all of the wash steps\n",
    "5 two times\n",
    "12. Use a fresh pipet to transfer 50ul of secondary antibody (SA) into each of the 12 wells\n",
    "of microplate strip\n",
    "13. Wait 5 min for antibodies to bind to their targets\n",
    "14. Wash the unbound secondary antibodies out the wells by repeating wash step 5 three\n",
    "times\n",
    "15. use a fresh pipet tip to transfer 50ul of enzyme substrate (SUB) into each of the 12 wells\n",
    "of microplates strip\n",
    "16. wait 5 min observe and record the results"
   ]
  },
  {
   "cell_type": "markdown",
   "id": "c5a5129f",
   "metadata": {},
   "source": [
    "#### Results"
   ]
  },
  {
   "cell_type": "markdown",
   "id": "78780f3a",
   "metadata": {},
   "source": [
    "After 5 min of observation the first three positive strips turn Sky blue color. And the rest remained unchanged."
   ]
  },
  {
   "cell_type": "markdown",
   "id": "6f4ffb57",
   "metadata": {},
   "source": [
    "#### Discussion"
   ]
  },
  {
   "cell_type": "markdown",
   "id": "b59261b3",
   "metadata": {},
   "source": [
    "In between each liquid that we had to out we made sure to wash thoroughly in order to get the correct results. We thought we did something wrong because we had no reaction from the rest however, the other partners also didn't. We knew which liquid was which by the sheet. The yellow tubes ser student samples, the violet tube was positive control, the blue tube was negative control, the green tube was purified antigen, the orange tube was secondary antibody, and the brown tube was enzyme substrate."
   ]
  },
  {
   "cell_type": "markdown",
   "id": "cfbb9df5",
   "metadata": {},
   "source": [
    "#### Conclusion "
   ]
  },
  {
   "cell_type": "markdown",
   "id": "b37ca475",
   "metadata": {},
   "source": [
    "In conclusion, we were able to get a reaction once the enzyme substrate was placed in the microplate strips. We got a reaction from the three positive control microplate strip it turned into a sky blue meaning that there is a presence of antigen-antibody complex. Turning blue in the positive control is normal it's also normal for a red color for the negative control however ours had no reaction."
   ]
  },
  {
   "cell_type": "code",
   "execution_count": null,
   "id": "f1a0da83",
   "metadata": {},
   "outputs": [],
   "source": []
  }
 ],
 "metadata": {
  "kernelspec": {
   "display_name": "Python 3 (ipykernel)",
   "language": "python",
   "name": "python3"
  },
  "language_info": {
   "codemirror_mode": {
    "name": "ipython",
    "version": 3
   },
   "file_extension": ".py",
   "mimetype": "text/x-python",
   "name": "python",
   "nbconvert_exporter": "python",
   "pygments_lexer": "ipython3",
   "version": "3.11.4"
  }
 },
 "nbformat": 4,
 "nbformat_minor": 5
}
