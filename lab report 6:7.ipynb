{
 "cells": [
  {
   "cell_type": "markdown",
   "id": "1d259226",
   "metadata": {},
   "source": [
    "# Sensory Physiology"
   ]
  },
  {
   "cell_type": "markdown",
   "id": "6facdd2a",
   "metadata": {},
   "source": [
    "#### Purpose "
   ]
  },
  {
   "cell_type": "markdown",
   "id": "e86ccd73",
   "metadata": {},
   "source": [
    "Sensation, the monitoring of enviromental stimuli, involves the interaction of three basic components of the nervous system.There are many types of receptor cells, each of which responds to a specific kind of environmental stimulus. Each of these receptors generates a graded potential, which, if strong enough, will\n",
    "depolarize a connecting sensory neuron. Ultimately, the stimulation of a specific interpretation center\n",
    "results in the perception of a specific sensation.Stronger sensations result from higher frequencies of nerve impulse arrival. Th epurpose of this lab is to perform a series of exercises that measure the capabilities of your sensory systems. "
   ]
  },
  {
   "cell_type": "markdown",
   "id": "36263892",
   "metadata": {},
   "source": [
    "#### Procedure"
   ]
  },
  {
   "cell_type": "markdown",
   "id": "e2148676",
   "metadata": {},
   "source": [
    "With your partner’s eyes closed, apply two caliper pinpoints as closely together as\n",
    "possible on your partner’s skin on the palm of his/her hand. Remove the pins and move them 1 millimeter apart. Reapply the caliper points to your partner’s skin. Repeat this procedure until your partner can discriminate two distinct points.Record this distance between pins at which your partner can discriminate two separatecaliper points.Compare results obtained from the following areas:palm of hand, back of hand fingertip outer edge of the lips,back of neck. Have your partner repeat this experiment on your skin. Interpret the results you have obtained.Accommodation of thermoreceptors. Accommodation, or sensory adaptation, occurs when receptors generate fewer impulses during constant stimulation. Accommodation of cutaneous thermoreceptors will be recorded.Place your left fingers in 15 water and your right fingers in warm water and record the sensation of each. Keep hands immersed for 2 minutes. After two minutes, describe the sensation in each hand. Remove hands and promptly place them both in 25 water. Describe the immediate sensation in each hand.Block your left nostril. Uncork and hold the bottle of camphor oil under your nose until you can no longer detect the camphor.Do not consciously sniff the contents of the vial. Record the adaptation time. Remove the camphor and place the bottles of cloves, then peppermint oil under your nose. Distinguish the smells of cloves and peppermint oil. Uncork and hold the bottle of camphor under your nose again until the smell is no longer recognized. Record this second adaptation time. Unblock your left nostril determine if the camphor is detected. Sound is measured in terms of amplitude (decibels–dB) and frequency (Hertz- Hz)."
   ]
  },
  {
   "cell_type": "markdown",
   "id": "8d0c24f4",
   "metadata": {},
   "source": [
    "#### Results "
   ]
  },
  {
   "cell_type": "markdown",
   "id": "375ee45a",
   "metadata": {},
   "source": [
    "With the sensation of the two different temperature water and moving them to the same temperture. I would sat I did feel a sensation. I would say one hand felt warm because of adaptation and the other felt numb. "
   ]
  },
  {
   "cell_type": "markdown",
   "id": "5f1b670d",
   "metadata": {},
   "source": [
    "#### Discussion"
   ]
  },
  {
   "cell_type": "markdown",
   "id": "e9c5f861",
   "metadata": {},
   "source": [
    "To discuss the results of this lab. I would say our sensory system in our body does adapt to our touch and temperature. Additionally, we possess general senses, also called somatosensation, which respond to stimuli like temperature, pain, pressure, and vibration.Sensation: In medicine and physiology, sensation refers to the registration of an incoming (afferent) nerve impulse in that part of the brain called the sensorium, which is capable of such perception. Therefore, the awareness of a stimulus as a result of its perception by sensory receptors."
   ]
  },
  {
   "cell_type": "markdown",
   "id": "1827485b",
   "metadata": {},
   "source": [
    "#### Conclusion "
   ]
  },
  {
   "cell_type": "markdown",
   "id": "8f393410",
   "metadata": {},
   "source": [
    "The sensory system receives and processes information that generates an individual's awareness of their environment. Various sensory perceptions then influence voluntary and involuntary motor activity to facilitate interaction with the world.The sensory system is a complex neural network of pathways that relay information about the external environment between the brain and body. Sensory receptors pick up data about external stimuli and transmit that information as electrical signals to the spine and brain.The sensory system receives and processes information that generates an individual's awareness of their environment. Various sensory perceptions then influence voluntary and involuntary motor activity to facilitate interaction with the world. Broadly, sensations fall into two categories: General and special senses."
   ]
  },
  {
   "cell_type": "code",
   "execution_count": null,
   "id": "d4c2f5bb",
   "metadata": {},
   "outputs": [],
   "source": []
  }
 ],
 "metadata": {
  "kernelspec": {
   "display_name": "Python 3 (ipykernel)",
   "language": "python",
   "name": "python3"
  },
  "language_info": {
   "codemirror_mode": {
    "name": "ipython",
    "version": 3
   },
   "file_extension": ".py",
   "mimetype": "text/x-python",
   "name": "python",
   "nbconvert_exporter": "python",
   "pygments_lexer": "ipython3",
   "version": "3.11.4"
  }
 },
 "nbformat": 4,
 "nbformat_minor": 5
}
