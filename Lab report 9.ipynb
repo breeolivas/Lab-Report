{
 "cells": [
  {
   "cell_type": "markdown",
   "id": "8309c4ae",
   "metadata": {},
   "source": [
    "# Muscle Physiology"
   ]
  },
  {
   "cell_type": "markdown",
   "id": "3d5259fa",
   "metadata": {},
   "source": [
    "#### Purpose"
   ]
  },
  {
   "cell_type": "markdown",
   "id": "e713f9f1",
   "metadata": {},
   "source": [
    "Myology, the study of muscle, investigates the performance of skeletal, cardiac, and\n",
    "smooth muscle. Each skeletal muscle fiber contacts a nerve fiber at a neuromuscular junction known\n",
    "as a motor end plate. Cardiac muscle fibers are connected by intercalated discs to from a functional syncytium, which transmits depolarization waves across the cell membranes. Smooth muscle consists of tightly packed small cells that conduct depolarization waves over their membranes. Once stimulated, by either nervous impulse or stretching, smooth muscle cells exert slow, sustained contractions that are very slow to fatigue. It is important to remember that the physical muscle contraction that can be observed follows the electrical signal to the muscle to contract.In this laboratory, several experimental procedures will be used to investigate the different contraction characteristics of skeletal, cardiac, and smooth muscle. The effects of the neurotransmitters, acetylcholine and norepinephrine, on the rates of contraction of cardiac and smooth muscle will be examined. "
   ]
  },
  {
   "cell_type": "markdown",
   "id": "ea4b7707",
   "metadata": {},
   "source": [
    "#### Procedure "
   ]
  },
  {
   "cell_type": "markdown",
   "id": "af525fab",
   "metadata": {},
   "source": [
    "Observe the laser disc presentation. Understand the terminology subliminal, liminal and\n",
    "maximal stimulus. Sketch the changes in the waveforms that result from increased amplitude and frequency of stimulus. Sketch the staircase phenomenon and complete tetanus followed by muscle fatigue. Observe the effects of overloading a muscle. Explain these observations in terms of the phases of a skeletal muscle twitch. Obtain a\n",
    "baseline trace of the smooth muscle at rest. Observe and note the effects on the chart recording of injection of these neurotransmitters: Acetylcholine Norepinephrine Diagram the typical smooth muscle contraction. Summarize the effects of acetylcholine and norepinephrine on smooth muscle contraction."
   ]
  },
  {
   "cell_type": "markdown",
   "id": "2f91915e",
   "metadata": {},
   "source": [
    "#### Results "
   ]
  },
  {
   "cell_type": "markdown",
   "id": "c308bdad",
   "metadata": {},
   "source": []
  },
  {
   "cell_type": "markdown",
   "id": "86051dc9",
   "metadata": {},
   "source": [
    "#### Discusion\n"
   ]
  },
  {
   "cell_type": "markdown",
   "id": "af0f4c34",
   "metadata": {},
   "source": [
    "Muscle physiology is a branch of physiology that studies the mechanism behind muscle contraction. Muscle contraction is shortening of the muscle fibers initiated by action potentials in motor neurons which cause the release of neurotransmitters from synaptic vesicles. Muscle tissue is characterized by properties that allow movement. Muscle cells are excitable; they respond to a stimulus. They are contractile, meaning they can shorten and generate a pulling force. When attached between two movable objects, such as two bones, contraction of the muscles cause the bones to move."
   ]
  },
  {
   "cell_type": "markdown",
   "id": "434abce6",
   "metadata": {},
   "source": [
    "#### Conclusion "
   ]
  },
  {
   "cell_type": "markdown",
   "id": "efe90041",
   "metadata": {},
   "source": [
    "Conclusion The characteristics of muscle tissue are categorized based on their appearance and control (either skeletal, cardiac, or smooth or visceral muscle tissue), functionally as voluntary or involuntary, and also structurally as either striated or smooth.Muscle physiology is a branch of physiology that studies the mechanism behind muscle contraction. Muscle contraction is shortening of the muscle fibers initiated by action potentials in motor neurons which cause the release of neurotransmitters from synaptic vesicles. Muscle contraction entails the sliding of the thin filaments past the thick filaments, resulting in shortening of the sarcomere and, thus, the entire myocyte. The resulting longitudinal force is transmitted through the extracellular matrix (ECM) to the bone via the tendon."
   ]
  },
  {
   "cell_type": "code",
   "execution_count": null,
   "id": "bb242145",
   "metadata": {},
   "outputs": [],
   "source": []
  }
 ],
 "metadata": {
  "kernelspec": {
   "display_name": "Python 3 (ipykernel)",
   "language": "python",
   "name": "python3"
  },
  "language_info": {
   "codemirror_mode": {
    "name": "ipython",
    "version": 3
   },
   "file_extension": ".py",
   "mimetype": "text/x-python",
   "name": "python",
   "nbconvert_exporter": "python",
   "pygments_lexer": "ipython3",
   "version": "3.11.4"
  }
 },
 "nbformat": 4,
 "nbformat_minor": 5
}
