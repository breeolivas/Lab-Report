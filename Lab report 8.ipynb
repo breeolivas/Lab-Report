{
 "cells": [
  {
   "cell_type": "markdown",
   "id": "96117ba3",
   "metadata": {},
   "source": [
    "# Hormonal Activity"
   ]
  },
  {
   "cell_type": "markdown",
   "id": "289d335b",
   "metadata": {},
   "source": [
    "#### Purpose "
   ]
  },
  {
   "cell_type": "markdown",
   "id": "9c6470cb",
   "metadata": {},
   "source": [
    "Hormones are chemical messengers that are secreted directly into the blood by endocrine glands. Target tissues are distinguished by having specific receptor sites in their cell membranes, and sometimes in the cytoplasm, which only bind with specific hormones.This low rate of transport results in excess accumulation of glucose in the blood, called hyperglycemia. An excess of insulin causes a decrease in the level of blood glucose or hypoglycemia. When insulin is deficient and the cells cannot metabolize glucose for energy, the cells compensate by increasing their metabolism of fats and proteins. In diagnosing for diabetes mellitus, several tests are used to determine as precisely a possible what metabolic error is causing the disease. Such tests are urinary glucose level, urinary ketone bodies, fasting blood glucose level, insulin sensitivity, and glucose tolerance tests. In this laboratory, we will be using the glucose tolerance test.\n",
    " "
   ]
  },
  {
   "cell_type": "markdown",
   "id": "42620eb2",
   "metadata": {},
   "source": [
    "#### Procedure"
   ]
  },
  {
   "cell_type": "markdown",
   "id": "c7785dd0",
   "metadata": {},
   "source": [
    "Six student volunteers will be selected for this experiment. These subjects should report to the lab in the fasted state not having eaten for 10-12 hours. Each student’s normal fasting blood glucose level will be determined using the test strips for the glucometer assigned to each student. Each volunteer will clean a finger with 70% alcohol, then use a sterile lancet to obtain a drop of blood for the test. If a student is helping another obtain a blood sample, gloves and universal precautions will be followed. Each subject will then drink a lemon flavored solution (Tru-Glu) of 25% glucose. The quantity of solution will be based on 1 g of glucose per kilogram of body weight. To determine body weight in kilograms, the weight in pounds will be divided by 2.2. After ingesting the glucose, the subject will repeat the blood testing procedures every 30 minutes. Testing will continue in this manner for 1 1/2 hours or until the end of the lab period. Record and graph the average of the class results of the blood glucose tests. Compare the results with the normal glucose tolerance test curve. Describe the graphs\n",
    "in terms of absorptive and post absorptive states."
   ]
  },
  {
   "cell_type": "markdown",
   "id": "4782bc0c",
   "metadata": {},
   "source": [
    "#### Results "
   ]
  },
  {
   "cell_type": "markdown",
   "id": "8723296b",
   "metadata": {},
   "source": [
    "Results are interpreted as follows: Less than 100 mg/dL (5.6 mmol/L ) is considered healthy. 100 to 125 mg/dL (5.6 to 6.9 mmol/L ) is diagnosed as prediabetes. 126 mg/dL (7 mmol/L ) or higher on two separate tests is diagnosed as diabetes."
   ]
  },
  {
   "cell_type": "markdown",
   "id": "37bb29b1",
   "metadata": {},
   "source": [
    "#### Discusion "
   ]
  },
  {
   "cell_type": "markdown",
   "id": "c1532a39",
   "metadata": {},
   "source": [
    "There are many different blood tests. Some tests focus on your blood cells and platelets. Some evaluate substances in your blood such as electrolytes, proteins and hormones. Others measure certain minerals in your blood. In a broad sense, a blood test shows changes in your body. Blood test results don’t show a complete picture.There are many different blood tests. Some tests — such as complete blood count tests, basic metabolic panels, complete metabolic panels and electrolyte panels — check on several different elements in your blood at the same time. Other blood tests look for very specific elements in your blood.\n",
    "\n"
   ]
  },
  {
   "cell_type": "markdown",
   "id": "8144afa9",
   "metadata": {},
   "source": [
    "#### Conclusion "
   ]
  },
  {
   "cell_type": "markdown",
   "id": "a1aaaf04",
   "metadata": {},
   "source": [
    "It may indicate the presence or probable development of a particular disease or medical condition (such as diabetes, cardiovascular disease, or cancer) or serve to indicate the degree of function of a specific organ (such as the liver or kidney). Blood tests can be used for many different things, including to check cholesterol and blood glucose levels. These help monitor your risk of heart and circulatory diseases and diabetes, or how your condition is being managed. Tests for different chemicals and proteins can indicate how your liver or kidneys are working."
   ]
  },
  {
   "cell_type": "code",
   "execution_count": null,
   "id": "89c73e98",
   "metadata": {},
   "outputs": [],
   "source": []
  }
 ],
 "metadata": {
  "kernelspec": {
   "display_name": "Python 3 (ipykernel)",
   "language": "python",
   "name": "python3"
  },
  "language_info": {
   "codemirror_mode": {
    "name": "ipython",
    "version": 3
   },
   "file_extension": ".py",
   "mimetype": "text/x-python",
   "name": "python",
   "nbconvert_exporter": "python",
   "pygments_lexer": "ipython3",
   "version": "3.11.4"
  }
 },
 "nbformat": 4,
 "nbformat_minor": 5
}
